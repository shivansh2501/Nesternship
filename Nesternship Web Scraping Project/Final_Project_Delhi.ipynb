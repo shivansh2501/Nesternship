{
 "cells": [
  {
   "cell_type": "code",
   "execution_count": null,
   "id": "17581318",
   "metadata": {},
   "outputs": [],
   "source": [
    "from bs4 import BeautifulSoup\n",
    "import lxml\n",
    "import requests\n",
    "import pandas as pd"
   ]
  },
  {
   "cell_type": "code",
   "execution_count": null,
   "id": "db417e6e",
   "metadata": {},
   "outputs": [],
   "source": [
    "html_text = requests.get('https://www.healthfrog.in/hospital/pet-clinics/delhi/delhi').text\n",
    "\n",
    "print(html_text)"
   ]
  },
  {
   "cell_type": "code",
   "execution_count": null,
   "id": "3e101355",
   "metadata": {},
   "outputs": [],
   "source": [
    "soup = BeautifulSoup(html_text, 'lxml')\n",
    "\n",
    "print(soup.prettify())"
   ]
  },
  {
   "cell_type": "code",
   "execution_count": null,
   "id": "5cbeb665",
   "metadata": {
    "scrolled": false
   },
   "outputs": [],
   "source": [
    "pet_clinics = soup.find_all('div' , class_ = 'listing')\n",
    "\n",
    "for clinic in pet_clinics:\n",
    "    #pet_clinic_body = clinic.find('h3')\n",
    "    #if pet_clinic_body:\n",
    "    #    pet_clinic_name = pet_clinic_body.a.text\n",
    "    #else:\n",
    "    #    pass\n",
    "\n",
    "    pet_clinic_address = clinic.find('p')\n",
    "    if pet_clinic_address:\n",
    "       pet_clinic_address = pet_clinic_address.text\n",
    "    else:\n",
    "        pass\n",
    "        \n",
    "    #print(pet_clinic_name)\n",
    "    print(pet_clinic_address)"
   ]
  },
  {
   "cell_type": "code",
   "execution_count": null,
   "id": "cda018af",
   "metadata": {},
   "outputs": [],
   "source": []
  }
 ],
 "metadata": {
  "kernelspec": {
   "display_name": "Python 3 (ipykernel)",
   "language": "python",
   "name": "python3"
  },
  "language_info": {
   "codemirror_mode": {
    "name": "ipython",
    "version": 3
   },
   "file_extension": ".py",
   "mimetype": "text/x-python",
   "name": "python",
   "nbconvert_exporter": "python",
   "pygments_lexer": "ipython3",
   "version": "3.11.4"
  }
 },
 "nbformat": 4,
 "nbformat_minor": 5
}
